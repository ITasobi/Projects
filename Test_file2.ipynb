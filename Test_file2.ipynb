{
 "cells": [
  {
   "cell_type": "code",
   "execution_count": 31,
   "metadata": {},
   "outputs": [
    {
     "name": "stdout",
     "output_type": "stream",
     "text": [
      "29\n",
      "29\n",
      "You already tried: {150}\n",
      "Out of bounds!\n",
      "29\n",
      "You already tried: {100, 150}\n",
      "You are getting WARMER.\n",
      "29\n",
      "You already tried: {50, 100, 150}\n",
      "You are getting WARMER.\n",
      "29\n",
      "You already tried: {25, 50, 100, 150}\n",
      "WARM!\n",
      "29\n",
      "You already tried: {100, 15, 50, 150, 25}\n",
      "You are getting COLDER.\n",
      "29\n",
      "You already tried: {100, 15, 50, 150, 25, 30}\n",
      "WARM!\n",
      "29\n",
      "You already tried: {35, 100, 15, 50, 150, 25, 30}\n",
      "Somewhat COLD.\n",
      "29\n",
      "You already tried: {35, 100, 15, 50, 150, 25, 29, 30}\n",
      "Congrats! It only took you 8\n"
     ]
    }
   ],
   "source": [
    "import random\n",
    "x = random.randint(1,100)\n",
    "x = int(x)\n",
    "print(x)\n",
    "\n",
    "guess_list = [0] #this var has to be out of the loop or it would reset every time we type an input; it would look like this [0, *last guess*]\n",
    "\n",
    "while True:\n",
    "    guess = input(\"Guess the number: \")\n",
    "    guess_list.append(guess)\n",
    "    y = len(guess_list)-1\n",
    "    guess_set = set(guess_list[1:])\n",
    "    print(x)\n",
    "    print(f\"You already tried: {guess_set}\")\n",
    "\n",
    "    if guess == x:\n",
    "        print (f\"Congrats! It only took you {y}\")\n",
    "        break\n",
    "    elif guess<1 or guess>100: \n",
    "        print(\"Out of bounds!\")\n",
    "    elif abs(guess_list[-1]-x)<abs(guess_list[-2]-x) and abs(guess_list[-1]-x)<=10:\n",
    "        print(\"WARM!\")\n",
    "    elif abs(guess_list[-1]-x)>abs(guess_list[-2]-x) and abs(guess_list[-1]-x)<=10:\n",
    "        print(\"Somewhat COLD.\")\n",
    "    elif abs(guess_list[-1]-x)<abs(guess_list[-2]-x) and abs(guess_list[-1]-x)>10:\n",
    "        print(\"You are getting WARMER.\")\n",
    "    elif abs(guess_list[-1]-x)>abs(guess_list[-2]-x) and abs(guess_list[-1]-x)>10:\n",
    "        print(\"You are getting COLDER.\")\n",
    "    elif abs(guess_list[-1]-x)-abs(guess_list[-2]-x) == 0:\n",
    "        print(\"That's not it\")\n",
    "    else:\n",
    "        print(\"Error, please guess again.\")\n"
   ]
  },
  {
   "cell_type": "code",
   "execution_count": null,
   "metadata": {},
   "outputs": [],
   "source": [
    "RegEx = input()"
   ]
  },
  {
   "cell_type": "code",
   "execution_count": null,
   "metadata": {},
   "outputs": [],
   "source": []
  }
 ],
 "metadata": {
  "interpreter": {
   "hash": "b2188e69a4bf0a2d51890a282f3e4a35148749386c1ba2ddca5995c0dbc88103"
  },
  "kernelspec": {
   "display_name": "Python 3.10.2 64-bit",
   "language": "python",
   "name": "python3"
  },
  "language_info": {
   "codemirror_mode": {
    "name": "ipython",
    "version": 3
   },
   "file_extension": ".py",
   "mimetype": "text/x-python",
   "name": "python",
   "nbconvert_exporter": "python",
   "pygments_lexer": "ipython3",
   "version": "3.10.2"
  },
  "orig_nbformat": 4
 },
 "nbformat": 4,
 "nbformat_minor": 2
}
